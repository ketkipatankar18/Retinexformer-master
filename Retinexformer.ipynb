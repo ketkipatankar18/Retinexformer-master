{
  "nbformat": 4,
  "nbformat_minor": 0,
  "metadata": {
    "colab": {
      "provenance": []
    },
    "kernelspec": {
      "name": "python3",
      "display_name": "Python 3"
    },
    "language_info": {
      "name": "python"
    }
  },
  "cells": [
    {
      "cell_type": "code",
      "execution_count": 1,
      "metadata": {
        "id": "2I1kdCHHF0bd"
      },
      "outputs": [],
      "source": [
        "!pip install einops\n",
        "!pip install natsort\n",
        "from google.colab import drive\n",
        "drive.mount('/content/drive')\n",
        "%cd /content\n",
        "!python3 drive/MyDrive/Retinexformer-master/basicsr/models/archs/RetinexFormer_arch.py"
      ]
    }
  ]
}