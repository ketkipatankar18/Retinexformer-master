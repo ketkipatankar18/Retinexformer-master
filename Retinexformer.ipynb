{
  "nbformat": 4,
  "nbformat_minor": 0,
  "metadata": {
    "colab": {
      "provenance": []
    },
    "kernelspec": {
      "name": "python3",
      "display_name": "Python 3"
    },
    "language_info": {
      "name": "python"
    }
  },
  "cells": [
    {
      "cell_type": "code",
      "execution_count": 1,
      "metadata": {
        "colab": {
          "base_uri": "https://localhost:8080/"
        },
        "id": "2I1kdCHHF0bd",
        "outputId": "1f5b811e-ab2f-491c-bc1a-c65f57257ac6"
      },
      "outputs": [
        {
          "output_type": "stream",
          "name": "stdout",
          "text": [
            "Requirement already satisfied: einops in /usr/local/lib/python3.10/dist-packages (0.8.0)\n",
            "Requirement already satisfied: natsort in /usr/local/lib/python3.10/dist-packages (8.4.0)\n",
            "Mounted at /content/drive\n",
            "/content\n",
            "Using cpu device\n",
            "In RetinexFormer_Single_Stage in_channels=3 n_feat= 40 level= 2 num_blocks [1, 2, 2]\n",
            "drive/MyDrive/Retinexformer-master/data/NTIRE/mini_val/input/\n",
            "drive/MyDrive/Retinexformer-master/data/NTIRE/mini_val/target/\n",
            "  0% 0/15 [00:00<?, ?it/s]^C\n"
          ]
        }
      ],
      "source": [
        "!pip install einops\n",
        "!pip install natsort\n",
        "from google.colab import drive\n",
        "drive.mount('/content/drive')\n",
        "%cd /content\n",
        "!python3 drive/MyDrive/Retinexformer-master/basicsr/models/archs/RetinexFormer_arch.py"
      ]
    }
  ]
}